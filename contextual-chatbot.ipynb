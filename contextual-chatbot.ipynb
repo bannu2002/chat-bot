{
 "cells": [
  {
   "cell_type": "code",
   "execution_count": 1,
   "metadata": {
    "execution": {
     "iopub.execute_input": "2021-08-23T05:10:02.006239Z",
     "iopub.status.busy": "2021-08-23T05:10:02.005891Z",
     "iopub.status.idle": "2021-08-23T05:10:02.015202Z",
     "shell.execute_reply": "2021-08-23T05:10:02.012338Z",
     "shell.execute_reply.started": "2021-08-23T05:10:02.006158Z"
    }
   },
   "outputs": [],
   "source": [
    "import nltk \n",
    "from nltk.stem.lancaster import LancasterStemmer \n",
    "stemmer = LancasterStemmer()\n",
    "from nltk.corpus import stopwords\n",
    "import numpy as np \n",
    "import random \n",
    "import json"
   ]
  },
  {
   "cell_type": "code",
   "execution_count": 2,
   "metadata": {
    "_uuid": "1a10da399a40c2386b7a892db2f725bf2c2a4d91",
    "execution": {
     "iopub.execute_input": "2021-08-23T05:10:02.026993Z",
     "iopub.status.busy": "2021-08-23T05:10:02.026679Z",
     "iopub.status.idle": "2021-08-23T05:10:02.037060Z",
     "shell.execute_reply": "2021-08-23T05:10:02.036046Z",
     "shell.execute_reply.started": "2021-08-23T05:10:02.026924Z"
    }
   },
   "outputs": [
    {
     "name": "stdout",
     "output_type": "stream",
     "text": [
      "{'intents': [{'tag': 'greeting', 'patterns': ['Hi', 'How are you', 'Is anyone there?', 'Hello', 'Good day', 'Whats up'], 'responses': ['Hello!', 'Good to see you again!', 'Hi there, how can I help?'], 'context_set': ''}, {'tag': 'goodbye', 'patterns': ['cya', 'See you later', 'Goodbye', 'I am Leaving', 'Have a Good day'], 'responses': ['Sad to see you go :(', 'Talk to you later', 'Goodbye!'], 'context_set': ''}, {'tag': 'age', 'patterns': ['how old', 'how old is tim', 'what is your age', 'how old are you', 'age?'], 'responses': ['I am 18 years old!', '18 years young!'], 'context_set': ''}, {'tag': 'name', 'patterns': ['what is your name', 'what should I call you', 'whats your name?'], 'responses': ['You can call me Tim.', \"I'm Tim!\", \"I'm Tim aka Tech With Tim.\"], 'context_set': ''}, {'tag': 'shop', 'patterns': ['Id like to buy something', 'whats on the menu', 'what do you reccommend?', 'could i get something to eat'], 'responses': ['We sell chocolate chip cookies for $2!', 'Cookies are on the menu!'], 'context_set': ''}, {'tag': 'hours', 'patterns': ['when are you guys open', 'what are your hours', 'hours of operation'], 'responses': ['We are open 7am-4pm Monday-Friday!'], 'context_set': ''}]}\n"
     ]
    }
   ],
   "source": [
    "# import our chat-bot intents file\n",
    "import json\n",
    "with open('../input/intents-lol/intents.json') as json_data:\n",
    "    data = json.load(json_data)\n",
    "print(data)"
   ]
  },
  {
   "cell_type": "code",
   "execution_count": 3,
   "metadata": {
    "_uuid": "f5bfc031e0908e044f0bb27ebd1fbf7bac7e66fe",
    "execution": {
     "iopub.execute_input": "2021-08-23T05:10:02.040003Z",
     "iopub.status.busy": "2021-08-23T05:10:02.039066Z",
     "iopub.status.idle": "2021-08-23T05:10:02.076347Z",
     "shell.execute_reply": "2021-08-23T05:10:02.075309Z",
     "shell.execute_reply.started": "2021-08-23T05:10:02.039943Z"
    }
   },
   "outputs": [
    {
     "name": "stdout",
     "output_type": "stream",
     "text": [
      "[['hi'], ['how', 'ar', 'you'], ['is', 'anyon', 'ther'], ['hello'], ['good', 'day'], ['what', 'up'], ['cya'], ['see', 'you', 'lat'], ['goodby'], ['i', 'am', 'leav'], ['hav', 'a', 'good', 'day'], ['how', 'old'], ['how', 'old', 'is', 'tim'], ['what', 'is', 'yo', 'ag'], ['how', 'old', 'ar', 'you'], ['ag'], ['what', 'is', 'yo', 'nam'], ['what', 'should', 'i', 'cal', 'you'], ['what', 'yo', 'nam'], ['id', 'lik', 'to', 'buy', 'someth'], ['what', 'on', 'the', 'menu'], ['what', 'do', 'you', 'reccommend'], ['could', 'i', 'get', 'someth', 'to', 'eat'], ['when', 'ar', 'you', 'guy', 'op'], ['what', 'ar', 'yo', 'hour'], ['hour', 'of', 'op']]\n",
      "['greeting', 'greeting', 'greeting', 'greeting', 'greeting', 'greeting', 'goodbye', 'goodbye', 'goodbye', 'goodbye', 'goodbye', 'age', 'age', 'age', 'age', 'age', 'name', 'name', 'name', 'shop', 'shop', 'shop', 'shop', 'hours', 'hours', 'hours']\n"
     ]
    }
   ],
   "source": [
    "words=[]\n",
    "docs_x=[]\n",
    "docs_y=[]\n",
    "labels=[]\n",
    "\n",
    "for intent in data['intents']:\n",
    "    for pattern in intent['patterns']:\n",
    "        wrds=nltk.word_tokenize(pattern)\n",
    "        wrds=[stemmer.stem(w.lower()) for w in wrds if w not in ['?'] ]\n",
    "        words.extend(wrds)\n",
    "        docs_x.append(wrds)\n",
    "        docs_y.append(intent['tag'])\n",
    "        if intent['tag'] not in labels :\n",
    "            labels.append(intent['tag'])\n",
    "print(docs_x)\n",
    "print(docs_y)\n",
    "        "
   ]
  },
  {
   "cell_type": "code",
   "execution_count": 4,
   "metadata": {
    "_uuid": "d402102e6a2fe4b3d3abf6cf36338878c07402f8",
    "execution": {
     "iopub.execute_input": "2021-08-23T05:10:02.078798Z",
     "iopub.status.busy": "2021-08-23T05:10:02.078355Z",
     "iopub.status.idle": "2021-08-23T05:10:02.092692Z",
     "shell.execute_reply": "2021-08-23T05:10:02.091579Z",
     "shell.execute_reply.started": "2021-08-23T05:10:02.078649Z"
    }
   },
   "outputs": [
    {
     "name": "stdout",
     "output_type": "stream",
     "text": [
      "['a', 'ag', 'am', 'anyon', 'ar', 'buy', 'cal', 'could', 'cya', 'day', 'do', 'eat', 'get', 'good', 'goodby', 'guy', 'hav', 'hello', 'hi', 'hour', 'how', 'i', 'id', 'is', 'lat', 'leav', 'lik', 'menu', 'nam', 'of', 'old', 'on', 'op', 'reccommend', 'see', 'should', 'someth', 'the', 'ther', 'tim', 'to', 'up', 'what', 'when', 'yo', 'you']\n",
      "['age', 'goodbye', 'greeting', 'hours', 'name', 'shop']\n"
     ]
    }
   ],
   "source": [
    "words=sorted(list(set(words)))\n",
    "labels = sorted(labels)\n",
    "print(words)\n",
    "print(labels)\n",
    "training = []\n",
    "output =[] \n",
    "output_empty = [0 for _ in range ( len(labels))]"
   ]
  },
  {
   "cell_type": "code",
   "execution_count": 5,
   "metadata": {
    "_uuid": "d9ea1e5769bdd9c92282a502caa47a16db302ff5",
    "execution": {
     "iopub.execute_input": "2021-08-23T05:10:02.095051Z",
     "iopub.status.busy": "2021-08-23T05:10:02.094387Z",
     "iopub.status.idle": "2021-08-23T05:10:02.117561Z",
     "shell.execute_reply": "2021-08-23T05:10:02.116418Z",
     "shell.execute_reply.started": "2021-08-23T05:10:02.094994Z"
    }
   },
   "outputs": [
    {
     "name": "stdout",
     "output_type": "stream",
     "text": [
      "[['hi'], ['how', 'ar', 'you'], ['is', 'anyon', 'ther'], ['hello'], ['good', 'day'], ['what', 'up'], ['cya'], ['see', 'you', 'lat'], ['goodby'], ['i', 'am', 'leav'], ['hav', 'a', 'good', 'day'], ['how', 'old'], ['how', 'old', 'is', 'tim'], ['what', 'is', 'yo', 'ag'], ['how', 'old', 'ar', 'you'], ['ag'], ['what', 'is', 'yo', 'nam'], ['what', 'should', 'i', 'cal', 'you'], ['what', 'yo', 'nam'], ['id', 'lik', 'to', 'buy', 'someth'], ['what', 'on', 'the', 'menu'], ['what', 'do', 'you', 'reccommend'], ['could', 'i', 'get', 'someth', 'to', 'eat'], ['when', 'ar', 'you', 'guy', 'op'], ['what', 'ar', 'yo', 'hour'], ['hour', 'of', 'op']]\n",
      "['a', 'ag', 'am', 'anyon', 'ar', 'buy', 'cal', 'could', 'cya', 'day', 'do', 'eat', 'get', 'good', 'goodby', 'guy', 'hav', 'hello', 'hi', 'hour', 'how', 'i', 'id', 'is', 'lat', 'leav', 'lik', 'menu', 'nam', 'of', 'old', 'on', 'op', 'reccommend', 'see', 'should', 'someth', 'the', 'ther', 'tim', 'to', 'up', 'what', 'when', 'yo', 'you']\n",
      "[[0 0 0 ... 0 0 0]\n",
      " [0 0 0 ... 0 0 1]\n",
      " [0 0 0 ... 0 0 0]\n",
      " ...\n",
      " [0 0 0 ... 1 0 1]\n",
      " [0 0 0 ... 0 1 0]\n",
      " [0 0 0 ... 0 0 0]]\n"
     ]
    }
   ],
   "source": [
    "# reset underlying graph data\n",
    "bag_of_words=[]\n",
    "print(docs_x)\n",
    "print(words)\n",
    "\n",
    "for docs in docs_x:\n",
    "    bag=[]\n",
    "    for w in words : \n",
    "        if w in docs :\n",
    "            bag.append(1)\n",
    "        else :\n",
    "            bag.append(0)\n",
    "    bag_of_words.append(bag)\n",
    "train_x = np.array(bag_of_words)\n",
    "print(train_x)"
   ]
  },
  {
   "cell_type": "code",
   "execution_count": 6,
   "metadata": {
    "execution": {
     "iopub.execute_input": "2021-08-23T05:10:02.120356Z",
     "iopub.status.busy": "2021-08-23T05:10:02.119528Z",
     "iopub.status.idle": "2021-08-23T05:10:02.128149Z",
     "shell.execute_reply": "2021-08-23T05:10:02.127010Z",
     "shell.execute_reply.started": "2021-08-23T05:10:02.120195Z"
    }
   },
   "outputs": [
    {
     "data": {
      "text/plain": [
       "(26, 46)"
      ]
     },
     "execution_count": 6,
     "metadata": {},
     "output_type": "execute_result"
    }
   ],
   "source": [
    "train_x\n",
    "train_x.shape"
   ]
  },
  {
   "cell_type": "code",
   "execution_count": 7,
   "metadata": {
    "_uuid": "f3df3637327eb3b2c2a63dfd2c34b1e8ffa135bb",
    "execution": {
     "iopub.execute_input": "2021-08-23T05:10:02.130968Z",
     "iopub.status.busy": "2021-08-23T05:10:02.130109Z",
     "iopub.status.idle": "2021-08-23T05:10:02.149840Z",
     "shell.execute_reply": "2021-08-23T05:10:02.148777Z",
     "shell.execute_reply.started": "2021-08-23T05:10:02.130905Z"
    }
   },
   "outputs": [
    {
     "name": "stdout",
     "output_type": "stream",
     "text": [
      "[[0 0 1 0 0 0]\n",
      " [0 0 1 0 0 0]\n",
      " [0 0 1 0 0 0]\n",
      " [0 0 1 0 0 0]\n",
      " [0 0 1 0 0 0]\n",
      " [0 0 1 0 0 0]\n",
      " [0 1 0 0 0 0]\n",
      " [0 1 0 0 0 0]\n",
      " [0 1 0 0 0 0]\n",
      " [0 1 0 0 0 0]\n",
      " [0 1 0 0 0 0]\n",
      " [1 0 0 0 0 0]\n",
      " [1 0 0 0 0 0]\n",
      " [1 0 0 0 0 0]\n",
      " [1 0 0 0 0 0]\n",
      " [1 0 0 0 0 0]\n",
      " [0 0 0 0 1 0]\n",
      " [0 0 0 0 1 0]\n",
      " [0 0 0 0 1 0]\n",
      " [0 0 0 0 0 1]\n",
      " [0 0 0 0 0 1]\n",
      " [0 0 0 0 0 1]\n",
      " [0 0 0 0 0 1]\n",
      " [0 0 0 1 0 0]\n",
      " [0 0 0 1 0 0]\n",
      " [0 0 0 1 0 0]]\n"
     ]
    }
   ],
   "source": [
    "output_y=[]\n",
    "for docs in docs_y :\n",
    "    output_bag=[]\n",
    "    for label in labels :\n",
    "        if docs == label :\n",
    "            output_bag.append(1)\n",
    "        else :\n",
    "            output_bag.append(0)\n",
    "    output_y.append(output_bag)\n",
    "\n",
    "train_y=np.array(output_y)\n",
    "print(train_y)"
   ]
  },
  {
   "cell_type": "code",
   "execution_count": 8,
   "metadata": {
    "execution": {
     "iopub.execute_input": "2021-08-23T05:10:02.152863Z",
     "iopub.status.busy": "2021-08-23T05:10:02.151992Z",
     "iopub.status.idle": "2021-08-23T05:10:05.160445Z",
     "shell.execute_reply": "2021-08-23T05:10:05.159578Z",
     "shell.execute_reply.started": "2021-08-23T05:10:02.152719Z"
    }
   },
   "outputs": [
    {
     "name": "stderr",
     "output_type": "stream",
     "text": [
      "/opt/conda/lib/python3.6/site-packages/h5py/__init__.py:36: FutureWarning: Conversion of the second argument of issubdtype from `float` to `np.floating` is deprecated. In future, it will be treated as `np.float64 == np.dtype(float).type`.\n",
      "  from ._conv import register_converters as _register_converters\n",
      "Using TensorFlow backend.\n"
     ]
    },
    {
     "name": "stdout",
     "output_type": "stream",
     "text": [
      "Epoch 1/100\n",
      "26/26 [==============================] - 5s 207ms/step - loss: 1.7980 - acc: 0.1154\n",
      "Epoch 2/100\n",
      "26/26 [==============================] - 0s 530us/step - loss: 1.7929 - acc: 0.1154\n",
      "Epoch 3/100\n",
      "26/26 [==============================] - 0s 524us/step - loss: 1.7883 - acc: 0.1154\n",
      "Epoch 4/100\n",
      "26/26 [==============================] - 0s 512us/step - loss: 1.7839 - acc: 0.1538\n",
      "Epoch 5/100\n",
      "26/26 [==============================] - 0s 485us/step - loss: 1.7795 - acc: 0.1538\n",
      "Epoch 6/100\n",
      "26/26 [==============================] - 0s 485us/step - loss: 1.7757 - acc: 0.1538\n",
      "Epoch 7/100\n",
      "26/26 [==============================] - 0s 524us/step - loss: 1.7713 - acc: 0.1538\n",
      "Epoch 8/100\n",
      "26/26 [==============================] - 0s 493us/step - loss: 1.7675 - acc: 0.1923\n",
      "Epoch 9/100\n",
      "26/26 [==============================] - 0s 507us/step - loss: 1.7639 - acc: 0.1923\n",
      "Epoch 10/100\n",
      "26/26 [==============================] - 0s 502us/step - loss: 1.7603 - acc: 0.2308\n",
      "Epoch 11/100\n",
      "26/26 [==============================] - 0s 493us/step - loss: 1.7569 - acc: 0.2308\n",
      "Epoch 12/100\n",
      "26/26 [==============================] - 0s 516us/step - loss: 1.7533 - acc: 0.2308\n",
      "Epoch 13/100\n",
      "26/26 [==============================] - 0s 504us/step - loss: 1.7497 - acc: 0.2308\n",
      "Epoch 14/100\n",
      "26/26 [==============================] - 0s 512us/step - loss: 1.7458 - acc: 0.2308\n",
      "Epoch 15/100\n",
      "26/26 [==============================] - 0s 513us/step - loss: 1.7418 - acc: 0.2692\n",
      "Epoch 16/100\n",
      "26/26 [==============================] - 0s 520us/step - loss: 1.7378 - acc: 0.2692\n",
      "Epoch 17/100\n",
      "26/26 [==============================] - 0s 553us/step - loss: 1.7341 - acc: 0.2692\n",
      "Epoch 18/100\n",
      "26/26 [==============================] - 0s 519us/step - loss: 1.7302 - acc: 0.2692\n",
      "Epoch 19/100\n",
      "26/26 [==============================] - 0s 572us/step - loss: 1.7264 - acc: 0.2692\n",
      "Epoch 20/100\n",
      "26/26 [==============================] - 0s 539us/step - loss: 1.7231 - acc: 0.3077\n",
      "Epoch 21/100\n",
      "26/26 [==============================] - 0s 514us/step - loss: 1.7190 - acc: 0.3462\n",
      "Epoch 22/100\n",
      "26/26 [==============================] - 0s 525us/step - loss: 1.7147 - acc: 0.3462\n",
      "Epoch 23/100\n",
      "26/26 [==============================] - 0s 524us/step - loss: 1.7104 - acc: 0.3462\n",
      "Epoch 24/100\n",
      "26/26 [==============================] - 0s 506us/step - loss: 1.7064 - acc: 0.3462\n",
      "Epoch 25/100\n",
      "26/26 [==============================] - 0s 529us/step - loss: 1.7016 - acc: 0.3462\n",
      "Epoch 26/100\n",
      "26/26 [==============================] - 0s 517us/step - loss: 1.6970 - acc: 0.3462\n",
      "Epoch 27/100\n",
      "26/26 [==============================] - 0s 537us/step - loss: 1.6921 - acc: 0.3846\n",
      "Epoch 28/100\n",
      "26/26 [==============================] - 0s 539us/step - loss: 1.6877 - acc: 0.3846\n",
      "Epoch 29/100\n",
      "26/26 [==============================] - 0s 533us/step - loss: 1.6824 - acc: 0.3846\n",
      "Epoch 30/100\n",
      "26/26 [==============================] - 0s 517us/step - loss: 1.6772 - acc: 0.4231\n",
      "Epoch 31/100\n",
      "26/26 [==============================] - 0s 546us/step - loss: 1.6723 - acc: 0.4231\n",
      "Epoch 32/100\n",
      "26/26 [==============================] - 0s 527us/step - loss: 1.6674 - acc: 0.4231\n",
      "Epoch 33/100\n",
      "26/26 [==============================] - 0s 490us/step - loss: 1.6623 - acc: 0.4231\n",
      "Epoch 34/100\n",
      "26/26 [==============================] - 0s 517us/step - loss: 1.6567 - acc: 0.4231\n",
      "Epoch 35/100\n",
      "26/26 [==============================] - 0s 521us/step - loss: 1.6516 - acc: 0.4615\n",
      "Epoch 36/100\n",
      "26/26 [==============================] - 0s 513us/step - loss: 1.6464 - acc: 0.4615\n",
      "Epoch 37/100\n",
      "26/26 [==============================] - 0s 522us/step - loss: 1.6410 - acc: 0.4615\n",
      "Epoch 38/100\n",
      "26/26 [==============================] - 0s 536us/step - loss: 1.6349 - acc: 0.4615\n",
      "Epoch 39/100\n",
      "26/26 [==============================] - 0s 527us/step - loss: 1.6292 - acc: 0.4615\n",
      "Epoch 40/100\n",
      "26/26 [==============================] - 0s 528us/step - loss: 1.6235 - acc: 0.4615\n",
      "Epoch 41/100\n",
      "26/26 [==============================] - 0s 562us/step - loss: 1.6175 - acc: 0.4615\n",
      "Epoch 42/100\n",
      "26/26 [==============================] - 0s 530us/step - loss: 1.6111 - acc: 0.4615\n",
      "Epoch 43/100\n",
      "26/26 [==============================] - 0s 525us/step - loss: 1.6050 - acc: 0.4615\n",
      "Epoch 44/100\n",
      "26/26 [==============================] - 0s 522us/step - loss: 1.5984 - acc: 0.5000\n",
      "Epoch 45/100\n",
      "26/26 [==============================] - 0s 503us/step - loss: 1.5920 - acc: 0.5385\n",
      "Epoch 46/100\n",
      "26/26 [==============================] - 0s 531us/step - loss: 1.5852 - acc: 0.5385\n",
      "Epoch 47/100\n",
      "26/26 [==============================] - 0s 499us/step - loss: 1.5782 - acc: 0.5385\n",
      "Epoch 48/100\n",
      "26/26 [==============================] - 0s 527us/step - loss: 1.5713 - acc: 0.5000\n",
      "Epoch 49/100\n",
      "26/26 [==============================] - 0s 510us/step - loss: 1.5639 - acc: 0.5000\n",
      "Epoch 50/100\n",
      "26/26 [==============================] - 0s 498us/step - loss: 1.5566 - acc: 0.5000\n",
      "Epoch 51/100\n",
      "26/26 [==============================] - 0s 563us/step - loss: 1.5492 - acc: 0.5385\n",
      "Epoch 52/100\n",
      "26/26 [==============================] - 0s 525us/step - loss: 1.5412 - acc: 0.5385\n",
      "Epoch 53/100\n",
      "26/26 [==============================] - 0s 520us/step - loss: 1.5334 - acc: 0.5385\n",
      "Epoch 54/100\n",
      "26/26 [==============================] - 0s 511us/step - loss: 1.5253 - acc: 0.5769\n",
      "Epoch 55/100\n",
      "26/26 [==============================] - 0s 533us/step - loss: 1.5167 - acc: 0.5769\n",
      "Epoch 56/100\n",
      "26/26 [==============================] - 0s 531us/step - loss: 1.5080 - acc: 0.5385\n",
      "Epoch 57/100\n",
      "26/26 [==============================] - 0s 529us/step - loss: 1.4991 - acc: 0.5385\n",
      "Epoch 58/100\n",
      "26/26 [==============================] - 0s 548us/step - loss: 1.4894 - acc: 0.5769\n",
      "Epoch 59/100\n",
      "26/26 [==============================] - 0s 535us/step - loss: 1.4790 - acc: 0.6154\n",
      "Epoch 60/100\n",
      "26/26 [==============================] - 0s 534us/step - loss: 1.4699 - acc: 0.6538\n",
      "Epoch 61/100\n",
      "26/26 [==============================] - 0s 545us/step - loss: 1.4604 - acc: 0.6538\n",
      "Epoch 62/100\n",
      "26/26 [==============================] - 0s 514us/step - loss: 1.4507 - acc: 0.6538\n",
      "Epoch 63/100\n",
      "26/26 [==============================] - 0s 530us/step - loss: 1.4414 - acc: 0.6923\n",
      "Epoch 64/100\n",
      "26/26 [==============================] - 0s 528us/step - loss: 1.4309 - acc: 0.6923\n",
      "Epoch 65/100\n",
      "26/26 [==============================] - 0s 515us/step - loss: 1.4198 - acc: 0.6923\n",
      "Epoch 66/100\n",
      "26/26 [==============================] - 0s 571us/step - loss: 1.4101 - acc: 0.6538\n",
      "Epoch 67/100\n",
      "26/26 [==============================] - 0s 513us/step - loss: 1.3996 - acc: 0.6538\n",
      "Epoch 68/100\n",
      "26/26 [==============================] - 0s 523us/step - loss: 1.3888 - acc: 0.6538\n",
      "Epoch 69/100\n",
      "26/26 [==============================] - 0s 515us/step - loss: 1.3780 - acc: 0.6923\n",
      "Epoch 70/100\n",
      "26/26 [==============================] - 0s 543us/step - loss: 1.3673 - acc: 0.6923\n",
      "Epoch 71/100\n",
      "26/26 [==============================] - 0s 538us/step - loss: 1.3562 - acc: 0.6923\n",
      "Epoch 72/100\n",
      "26/26 [==============================] - 0s 529us/step - loss: 1.3452 - acc: 0.6923\n",
      "Epoch 73/100\n",
      "26/26 [==============================] - 0s 521us/step - loss: 1.3340 - acc: 0.7308\n",
      "Epoch 74/100\n",
      "26/26 [==============================] - 0s 500us/step - loss: 1.3225 - acc: 0.7308\n",
      "Epoch 75/100\n",
      "26/26 [==============================] - 0s 516us/step - loss: 1.3101 - acc: 0.7308\n",
      "Epoch 76/100\n",
      "26/26 [==============================] - 0s 518us/step - loss: 1.2959 - acc: 0.7692\n",
      "Epoch 77/100\n",
      "26/26 [==============================] - 0s 525us/step - loss: 1.2819 - acc: 0.8077\n",
      "Epoch 78/100\n",
      "26/26 [==============================] - 0s 488us/step - loss: 1.2675 - acc: 0.8077\n",
      "Epoch 79/100\n",
      "26/26 [==============================] - 0s 524us/step - loss: 1.2533 - acc: 0.8077\n",
      "Epoch 80/100\n",
      "26/26 [==============================] - 0s 532us/step - loss: 1.2388 - acc: 0.8077\n",
      "Epoch 81/100\n",
      "26/26 [==============================] - 0s 495us/step - loss: 1.2244 - acc: 0.8077\n",
      "Epoch 82/100\n",
      "26/26 [==============================] - 0s 501us/step - loss: 1.2095 - acc: 0.8077\n",
      "Epoch 83/100\n",
      "26/26 [==============================] - 0s 471us/step - loss: 1.1954 - acc: 0.8077\n",
      "Epoch 84/100\n",
      "26/26 [==============================] - 0s 515us/step - loss: 1.1812 - acc: 0.8462\n",
      "Epoch 85/100\n",
      "26/26 [==============================] - 0s 512us/step - loss: 1.1674 - acc: 0.8462\n",
      "Epoch 86/100\n",
      "26/26 [==============================] - 0s 511us/step - loss: 1.1535 - acc: 0.8462\n",
      "Epoch 87/100\n",
      "26/26 [==============================] - 0s 555us/step - loss: 1.1392 - acc: 0.8462\n",
      "Epoch 88/100\n",
      "26/26 [==============================] - 0s 562us/step - loss: 1.1252 - acc: 0.8462\n",
      "Epoch 89/100\n",
      "26/26 [==============================] - 0s 515us/step - loss: 1.1110 - acc: 0.8462\n",
      "Epoch 90/100\n",
      "26/26 [==============================] - 0s 520us/step - loss: 1.0972 - acc: 0.8462\n",
      "Epoch 91/100\n",
      "26/26 [==============================] - 0s 541us/step - loss: 1.0819 - acc: 0.8462\n",
      "Epoch 92/100\n",
      "26/26 [==============================] - 0s 518us/step - loss: 1.0671 - acc: 0.8462\n",
      "Epoch 93/100\n",
      "26/26 [==============================] - 0s 527us/step - loss: 1.0526 - acc: 0.8462\n",
      "Epoch 94/100\n",
      "26/26 [==============================] - 0s 513us/step - loss: 1.0369 - acc: 0.8462\n",
      "Epoch 95/100\n",
      "26/26 [==============================] - 0s 550us/step - loss: 1.0228 - acc: 0.8462\n",
      "Epoch 96/100\n",
      "26/26 [==============================] - 0s 521us/step - loss: 1.0080 - acc: 0.8462\n",
      "Epoch 97/100\n",
      "26/26 [==============================] - 0s 563us/step - loss: 0.9934 - acc: 0.8462\n",
      "Epoch 98/100\n",
      "26/26 [==============================] - 0s 536us/step - loss: 0.9790 - acc: 0.8462\n",
      "Epoch 99/100\n",
      "26/26 [==============================] - 0s 541us/step - loss: 0.9649 - acc: 0.8462\n",
      "Epoch 100/100\n",
      "26/26 [==============================] - 0s 506us/step - loss: 0.9507 - acc: 0.8462\n"
     ]
    },
    {
     "data": {
      "text/plain": [
       "<keras.callbacks.History at 0x7f71dc3b8898>"
      ]
     },
     "execution_count": 8,
     "metadata": {},
     "output_type": "execute_result"
    }
   ],
   "source": [
    "from keras.models import Sequential\n",
    "from keras.layers import Dense\n",
    "classifier=Sequential()\n",
    "classifier.add(Dense(8,activation='relu',input_shape=(46,)))\n",
    "classifier.add(Dense(8,activation='relu'))\n",
    "classifier.add(Dense(6,activation='softmax'))\n",
    "classifier.compile(optimizer='adam',metrics=['accuracy'],loss='categorical_crossentropy')\n",
    "classifier.fit(train_x,train_y,epochs=100,batch_size=8)"
   ]
  },
  {
   "cell_type": "code",
   "execution_count": 9,
   "metadata": {
    "execution": {
     "iopub.execute_input": "2021-08-23T05:10:05.162379Z",
     "iopub.status.busy": "2021-08-23T05:10:05.161855Z",
     "iopub.status.idle": "2021-08-23T05:10:05.179020Z",
     "shell.execute_reply": "2021-08-23T05:10:05.178175Z",
     "shell.execute_reply.started": "2021-08-23T05:10:05.162321Z"
    }
   },
   "outputs": [],
   "source": [
    "def bag_of_words(s,words):\n",
    "    bag=[0 for _ in range(len(words))]\n",
    "    s_words=nltk.word_tokenize(s)\n",
    "    s_words=[stemmer.stem(w.lower()) for w in s_words if w not in ['?']]\n",
    "    for se in s_words :\n",
    "        for i,w in enumerate(words):\n",
    "            if se == w :\n",
    "                bag[i]=1\n",
    "    return np.array(bag)"
   ]
  },
  {
   "cell_type": "code",
   "execution_count": 10,
   "metadata": {
    "execution": {
     "iopub.execute_input": "2021-08-23T05:10:05.180924Z",
     "iopub.status.busy": "2021-08-23T05:10:05.180383Z",
     "iopub.status.idle": "2021-08-23T05:10:05.200538Z",
     "shell.execute_reply": "2021-08-23T05:10:05.199522Z",
     "shell.execute_reply.started": "2021-08-23T05:10:05.180867Z"
    }
   },
   "outputs": [],
   "source": [
    "def chat():\n",
    "    print(\"Start talking with the bot (Enter quit to exit): \")\n",
    "    while True : \n",
    "        inp = input (\"You : \")\n",
    "        if inp.lower()== \"quit\" :\n",
    "            break\n",
    "        result = model.predict([bag_of_words(inp,words)])\n",
    "        index = np.argmax(result)\n",
    "        tag = labels [index]\n",
    "        for tg in data['intents']:\n",
    "            if tg['tag']== tag:\n",
    "                responses = tg['responses']\n",
    "        print(random.choice(responses))"
   ]
  }
 ],
 "metadata": {
  "kernelspec": {
   "display_name": "Python 3",
   "language": "python",
   "name": "python3"
  },
  "language_info": {
   "codemirror_mode": {
    "name": "ipython",
    "version": 3
   },
   "file_extension": ".py",
   "mimetype": "text/x-python",
   "name": "python",
   "nbconvert_exporter": "python",
   "pygments_lexer": "ipython3",
   "version": "3.6.4"
  }
 },
 "nbformat": 4,
 "nbformat_minor": 4
}
